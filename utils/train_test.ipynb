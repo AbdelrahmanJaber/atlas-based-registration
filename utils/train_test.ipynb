{
 "cells": [
  {
   "cell_type": "markdown",
   "id": "07e49e52",
   "metadata": {},
   "source": [
    "### Train VoxelMorph x DeepAli"
   ]
  },
  {
   "cell_type": "code",
   "execution_count": 1,
   "id": "6f516fc7",
   "metadata": {},
   "outputs": [
    {
     "ename": "ModuleNotFoundError",
     "evalue": "No module named 'deepali'",
     "output_type": "error",
     "traceback": [
      "\u001b[0;31m---------------------------------------------------------------------------\u001b[0m",
      "\u001b[0;31mModuleNotFoundError\u001b[0m                       Traceback (most recent call last)",
      "Cell \u001b[0;32mIn[1], line 1\u001b[0m\n\u001b[0;32m----> 1\u001b[0m \u001b[38;5;28;01mfrom\u001b[39;00m \u001b[38;5;21;01mdeepali\u001b[39;00m\u001b[38;5;21;01m.\u001b[39;00m\u001b[38;5;21;01mmodel\u001b[39;00m \u001b[38;5;28;01mimport\u001b[39;00m UNetRegistrationModel\n\u001b[1;32m      2\u001b[0m \u001b[38;5;28;01mfrom\u001b[39;00m \u001b[38;5;21;01mdeepali\u001b[39;00m\u001b[38;5;21;01m.\u001b[39;00m\u001b[38;5;21;01mmodel\u001b[39;00m\u001b[38;5;21;01m.\u001b[39;00m\u001b[38;5;21;01mencoder\u001b[39;00m \u001b[38;5;28;01mimport\u001b[39;00m UNetEncoder\n\u001b[1;32m      3\u001b[0m \u001b[38;5;28;01mfrom\u001b[39;00m \u001b[38;5;21;01mdeepali\u001b[39;00m\u001b[38;5;21;01m.\u001b[39;00m\u001b[38;5;21;01mmodel\u001b[39;00m\u001b[38;5;21;01m.\u001b[39;00m\u001b[38;5;21;01mdecoder\u001b[39;00m \u001b[38;5;28;01mimport\u001b[39;00m VoxelMorphDecoder\n",
      "\u001b[0;31mModuleNotFoundError\u001b[0m: No module named 'deepali'"
     ]
    }
   ],
   "source": [
    "from deepali.model import UNetRegistrationModel\n",
    "from deepali.model.encoder import UNetEncoder\n",
    "from deepali.model.decoder import VoxelMorphDecoder\n",
    "\n",
    "model = UNetRegistrationModel(\n",
    "    image_size=(160, 192, 224),  # passe das ggf. an deine CT-Größe an\n",
    "    encoder=UNetEncoder(in_channels=1),\n",
    "    decoder=VoxelMorphDecoder()\n",
    ")"
   ]
  }
 ],
 "metadata": {
  "kernelspec": {
   "display_name": "Python 3",
   "language": "python",
   "name": "python3"
  },
  "language_info": {
   "name": "python",
   "version": "3.10.16"
  }
 },
 "nbformat": 4,
 "nbformat_minor": 5
}
